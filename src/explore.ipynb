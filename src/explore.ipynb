{
    "cells": [
        {
            "cell_type": "markdown",
            "metadata": {},
            "source": [
                "# Explore here\n",
                "\n",
                "It's recommended to use this notebook for exploration purposes."
            ]
        },
        {
            "cell_type": "code",
            "execution_count": null,
            "metadata": {},
            "outputs": [],
            "source": [
                "import requests\n",
                "import time\n",
                "\n",
                "# Descargar HTML de la página web\n",
                "link = \" https://www.macrotrends.net/stocks/charts/TSLA/tesla/revenue\"\n",
                "data = requests.get(link, time.sleep(10)).text\n",
                "\n",
                "data"
            ]
        },
        {
            "cell_type": "code",
            "execution_count": null,
            "metadata": {},
            "outputs": [],
            "source": [
                "# Paso 3 Transforma el HTML\n",
                "\n",
                "from bs4 import BeautifulSoup\n",
                "import pandas as pd\n",
                "\n",
                "# Parsear el HTML usando BeautifulSoup\n",
                "soup = BeautifulSoup(data, 'html.parser')\n",
                "soup\n"
            ]
        },
        {
            "cell_type": "code",
            "execution_count": null,
            "metadata": {},
            "outputs": [],
            "source": [
                "#Find all tables\n",
                "tables = soup.find_all(\"table\")\n",
                "tables"
            ]
        },
        {
            "cell_type": "code",
            "execution_count": null,
            "metadata": {},
            "outputs": [],
            "source": [
                "import pandas as pd\n",
                "\n",
                "for index, table in enumerate(tables):\n",
                "    if (\"Tesla Quarterly Revenue\" in str(table)):\n",
                "        table_index = index\n",
                "        break\n",
                "\n",
                "# Crear un DataFrame\n",
                "tesla_revenue = pd.DataFrame(columns = [\"Date\", \"Revenue\"])\n",
                "for row in tables[table_index].tbody.find_all(\"tr\"):\n",
                "    col = row.find_all(\"td\")\n",
                "    if (col != []):\n",
                "        Date = col[0].text\n",
                "        Revenue = col[1].text.replace(\"$\", \"\").replace(\",\", \"\")\n",
                "        tesla_revenue = pd.concat([tesla_revenue, pd.DataFrame({\n",
                "            \"Date\": Date,\n",
                "            \"Revenue\": Revenue\n",
                "        }, index = [0])], ignore_index = True)\n",
                "\n",
                "tesla_revenue.head()"
            ]
        },
        {
            "cell_type": "code",
            "execution_count": null,
            "metadata": {},
            "outputs": [],
            "source": [
                "# Procesamos el Data frame\n",
                "tesla_revenue = tesla_revenue[tesla_revenue[\"Revenue\"] != \"\"]\n",
                "tesla_revenue"
            ]
        },
        {
            "cell_type": "code",
            "execution_count": null,
            "metadata": {},
            "outputs": [],
            "source": [
                "# Almacenar datos en SQLITE \n",
                "import sqlite3\n",
                "\n",
                "connection = sqlite3.connect(\"Tesla.db\")\n",
                "connection"
            ]
        },
        {
            "cell_type": "code",
            "execution_count": null,
            "metadata": {},
            "outputs": [],
            "source": [
                "# Creamos tabla\n",
                "\n",
                "cursor = connection.cursor()\n",
                "cursor.execute(\"\"\"CREATE TABLE revenue (Date, Revenue)\"\"\")"
            ]
        },
        {
            "cell_type": "code",
            "execution_count": null,
            "metadata": {},
            "outputs": [],
            "source": [
                "tesla_tuples = list(tesla_revenue.to_records(index = False))\n",
                "tesla_tuples[:5]"
            ]
        },
        {
            "cell_type": "code",
            "execution_count": null,
            "metadata": {},
            "outputs": [],
            "source": [
                "# Comprueba los datos del database\n",
                "for row in cursor.execute(\"SELECT * FROM revenue\"):\n",
                "    print(row)"
            ]
        },
        {
            "cell_type": "markdown",
            "metadata": {},
            "source": [
                "GRÁFICOS"
            ]
        },
        {
            "cell_type": "code",
            "execution_count": null,
            "metadata": {},
            "outputs": [],
            "source": [
                "import matplotlib.pyplot as plt\n",
                "import seaborn as sns\n",
                "\n",
                "fig, axis = plt.subplots(figsize = (10, 5))\n",
                "\n",
                "tesla_revenue[\"Date\"] = pd.to_datetime(tesla_revenue[\"Date\"])\n",
                "tesla_revenue[\"Revenue\"] = tesla_revenue[\"Revenue\"].astype('int')\n",
                "sns.lineplot(data = tesla_revenue, x = \"Date\", y = \"Revenue\")\n",
                "\n",
                "plt.tight_layout()\n",
                "\n",
                "plt.show()"
            ]
        },
        {
            "cell_type": "code",
            "execution_count": null,
            "metadata": {},
            "outputs": [],
            "source": [
                "fig, axis = plt.subplots(figsize = (10, 5))\n",
                "\n",
                "tesla_revenue[\"Date\"] = pd.to_datetime(tesla_revenue[\"Date\"])\n",
                "tesla_revenue_yearly = tesla_revenue.groupby(tesla_revenue[\"Date\"].dt.year).sum().reset_index()\n",
                "\n",
                "sns.barplot(data = tesla_revenue_yearly[tesla_revenue_yearly[\"Date\"] < 2023], x = \"Date\", y = \"Revenue\")\n",
                "\n",
                "plt.tight_layout()\n",
                "\n",
                "plt.show()"
            ]
        },
        {
            "cell_type": "code",
            "execution_count": null,
            "metadata": {},
            "outputs": [],
            "source": [
                "fig, axis = plt.subplots(figsize = (10, 5))\n",
                "\n",
                "tesla_revenue_monthly = tesla_revenue.groupby(tesla_revenue[\"Date\"].dt.month).sum().reset_index()\n",
                "\n",
                "sns.barplot(data = tesla_revenue_monthly, x = \"Date\", y = \"Revenue\")\n",
                "\n",
                "plt.tight_layout()\n",
                "\n",
                "plt.show()"
            ]
        }
    ],
    "metadata": {
        "kernelspec": {
            "display_name": "Python 3.8.13 64-bit ('3.8.13')",
            "language": "python",
            "name": "python3"
        },
        "language_info": {
            "codemirror_mode": {
                "name": "ipython",
                "version": 3
            },
            "file_extension": ".py",
            "mimetype": "text/x-python",
            "name": "python",
            "nbconvert_exporter": "python",
            "pygments_lexer": "ipython3",
            "version": "3.11.4"
        },
        "orig_nbformat": 4,
        "vscode": {
            "interpreter": {
                "hash": "110cc1dee26208153f2972f08a2ad52b6a56238dc66d48e87fb757ef2996db56"
            }
        }
    },
    "nbformat": 4,
    "nbformat_minor": 2
}
